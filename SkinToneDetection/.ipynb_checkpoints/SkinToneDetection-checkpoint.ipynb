{
 "cells": [
  {
   "cell_type": "code",
   "execution_count": 1,
   "metadata": {},
   "outputs": [
    {
     "ename": "ModuleNotFoundError",
     "evalue": "No module named 'imutils'",
     "output_type": "error",
     "traceback": [
      "\u001b[1;31m---------------------------------------------------------------------------\u001b[0m",
      "\u001b[1;31mModuleNotFoundError\u001b[0m                       Traceback (most recent call last)",
      "\u001b[1;32m<ipython-input-1-5acd3d05976a>\u001b[0m in \u001b[0;36m<module>\u001b[1;34m\u001b[0m\n\u001b[0;32m      3\u001b[0m \u001b[1;32mfrom\u001b[0m \u001b[0msklearn\u001b[0m\u001b[1;33m.\u001b[0m\u001b[0mcluster\u001b[0m \u001b[1;32mimport\u001b[0m \u001b[0mKMeans\u001b[0m\u001b[1;33m\u001b[0m\u001b[1;33m\u001b[0m\u001b[0m\n\u001b[0;32m      4\u001b[0m \u001b[1;32mfrom\u001b[0m \u001b[0mcollections\u001b[0m \u001b[1;32mimport\u001b[0m \u001b[0mCounter\u001b[0m\u001b[1;33m\u001b[0m\u001b[1;33m\u001b[0m\u001b[0m\n\u001b[1;32m----> 5\u001b[1;33m \u001b[1;32mimport\u001b[0m \u001b[0mimutils\u001b[0m\u001b[1;33m\u001b[0m\u001b[1;33m\u001b[0m\u001b[0m\n\u001b[0m\u001b[0;32m      6\u001b[0m \u001b[1;32mimport\u001b[0m \u001b[0mpprint\u001b[0m\u001b[1;33m\u001b[0m\u001b[1;33m\u001b[0m\u001b[0m\n\u001b[0;32m      7\u001b[0m \u001b[1;32mfrom\u001b[0m \u001b[0mmatplotlib\u001b[0m \u001b[1;32mimport\u001b[0m \u001b[0mpyplot\u001b[0m \u001b[1;32mas\u001b[0m \u001b[0mplt\u001b[0m\u001b[1;33m\u001b[0m\u001b[1;33m\u001b[0m\u001b[0m\n",
      "\u001b[1;31mModuleNotFoundError\u001b[0m: No module named 'imutils'"
     ]
    }
   ],
   "source": [
    "import numpy as np\n",
    "import cv2\n",
    "from sklearn.cluster import KMeans\n",
    "from collections import Counter\n",
    "import imutils\n",
    "import pprint\n",
    "from matplotlib import pyplot as plt"
   ]
  },
  {
   "cell_type": "code",
   "execution_count": 2,
   "metadata": {},
   "outputs": [],
   "source": [
    "def removeBlack(estimator_labels, estimator_cluster):\n",
    "\n",
    "    hasBlack = False\n",
    "    occurance_counter = Counter(estimator_labels)\n",
    "    def compare(x, y): return Counter(x) == Counter(y)\n",
    "    for x in occurance_counter.most_common(len(estimator_cluster)):\n",
    "\n",
    "        color = [int(i) for i in estimator_cluster[x[0]].tolist()]\n",
    "        if compare(color, [0, 0, 0]) == True:\n",
    "            del occurance_counter[x[0]]\n",
    "            hasBlack = True\n",
    "            estimator_cluster = np.delete(estimator_cluster, x[0], 0)\n",
    "            break\n",
    "\n",
    "    return (occurance_counter, estimator_cluster, hasBlack)"
   ]
  },
  {
   "cell_type": "code",
   "execution_count": 3,
   "metadata": {},
   "outputs": [],
   "source": [
    "def getColorInformation(estimator_labels, estimator_cluster, hasThresholding=False):\n",
    "\n",
    "    occurance_counter = None\n",
    "    colorInformation = []\n",
    "    hasBlack = False\n",
    "    if hasThresholding == True:\n",
    "\n",
    "        (occurance, cluster, black) = removeBlack(\n",
    "            estimator_labels, estimator_cluster)\n",
    "        occurance_counter = occurance\n",
    "        estimator_cluster = cluster\n",
    "        hasBlack = black\n",
    "\n",
    "    else:\n",
    "        occurance_counter = Counter(estimator_labels)\n",
    "\n",
    "    totalOccurance = sum(occurance_counter.values())\n",
    "    for x in occurance_counter.most_common(len(estimator_cluster)):\n",
    "\n",
    "        index = (int(x[0]))\n",
    "        index = (index-1) if ((hasThresholding & hasBlack)\n",
    "                              & (int(index) != 0)) else index\n",
    "        color = estimator_cluster[index].tolist()\n",
    "        color_percentage = (x[1]/totalOccurance)\n",
    "        colorInfo = {\"cluster_index\": index, \"color\": color,\n",
    "                     \"color_percentage\": color_percentage}\n",
    "        colorInformation.append(colorInfo)\n",
    "\n",
    "    return colorInformation\n",
    "\n"
   ]
  },
  {
   "cell_type": "code",
   "execution_count": 4,
   "metadata": {},
   "outputs": [],
   "source": [
    "def extractDominantColor(image, number_of_colors=5, hasThresholding=False):\n",
    "\n",
    "    if hasThresholding == True:\n",
    "        number_of_colors += 1\n",
    "    img = image.copy()\n",
    "    img = cv2.cvtColor(img, cv2.COLOR_BGR2RGB)\n",
    "    img = img.reshape((img.shape[0]*img.shape[1]), 3)\n",
    "    estimator = KMeans(n_clusters=number_of_colors, random_state=0)\n",
    "    estimator.fit(img)\n",
    "    colorInformation = getColorInformation(\n",
    "        estimator.labels_, estimator.cluster_centers_, hasThresholding)\n",
    "    return colorInformation"
   ]
  },
  {
   "cell_type": "code",
   "execution_count": 5,
   "metadata": {},
   "outputs": [],
   "source": [
    "def plotColorBar(colorInformation):\n",
    "    color_bar = np.zeros((100, 500, 3), dtype=\"uint8\")\n",
    "    top_x = 0\n",
    "    for x in colorInformation:\n",
    "        bottom_x = top_x + (x[\"color_percentage\"] * color_bar.shape[1])\n",
    "        color = tuple(map(int, (x['color'])))\n",
    "        cv2.rectangle(color_bar, (int(top_x), 0),\n",
    "                      (int(bottom_x), color_bar.shape[0]), color, -1)\n",
    "        top_x = bottom_x\n",
    "    return color_bar"
   ]
  },
  {
   "cell_type": "code",
   "execution_count": 6,
   "metadata": {},
   "outputs": [],
   "source": [
    "image = cv2.imread('img7.jpg')"
   ]
  },
  {
   "cell_type": "code",
   "execution_count": 7,
   "metadata": {},
   "outputs": [],
   "source": [
    "image = imutils.resize(image,width=500)"
   ]
  },
  {
   "cell_type": "code",
   "execution_count": 8,
   "metadata": {},
   "outputs": [],
   "source": [
    "cv2.imshow('Original',image)\n",
    "cv2.waitKey()\n",
    "cv2.destroyAllWindows()"
   ]
  },
  {
   "cell_type": "code",
   "execution_count": 9,
   "metadata": {},
   "outputs": [],
   "source": [
    "img = image.copy()\n",
    "img = cv2.cvtColor(img, cv2.COLOR_BGR2HSV)\n",
    "lower_threshold = np.array([0, 48, 80], dtype=np.uint8)\n",
    "upper_threshold = np.array([20, 255, 255], dtype=np.uint8)\n",
    "skinMask = cv2.inRange(img, lower_threshold, upper_threshold)\n",
    "skinMask = cv2.GaussianBlur(skinMask, (3, 3), 0)\n",
    "skin = cv2.bitwise_and(img, img, mask=skinMask)\n",
    "skin = cv2.cvtColor(skin, cv2.COLOR_HSV2BGR)"
   ]
  },
  {
   "cell_type": "code",
   "execution_count": 10,
   "metadata": {},
   "outputs": [],
   "source": [
    "cv2.imshow('Thresholded Image',skin)\n",
    "cv2.waitKey()\n",
    "cv2.destroyAllWindows()"
   ]
  },
  {
   "cell_type": "code",
   "execution_count": 11,
   "metadata": {},
   "outputs": [],
   "source": [
    "dominantColors = extractDominantColor(skin, hasThresholding=True)"
   ]
  },
  {
   "cell_type": "code",
   "execution_count": 12,
   "metadata": {},
   "outputs": [
    {
     "name": "stdout",
     "output_type": "stream",
     "text": [
      "Color Information\n",
      "{'cluster_index': 3,\n",
      " 'color': [94.45060058078778, 67.71769403378936, 57.73439149947107],\n",
      " 'color_percentage': 0.33207642306722646}\n",
      "\n",
      "{'cluster_index': 0,\n",
      " 'color': [112.29825256568448, 82.968419384235, 73.83888734793913],\n",
      " 'color_percentage': 0.27644718236525667}\n",
      "\n",
      "{'cluster_index': 1,\n",
      " 'color': [79.02851926777694, 51.98253318202115, 40.12512952089563],\n",
      " 'color_percentage': 0.22236350283352882}\n",
      "\n",
      "{'cluster_index': 2,\n",
      " 'color': [133.54066446182168, 102.53705652435194, 95.39439266385858],\n",
      " 'color_percentage': 0.14573216849905182}\n",
      "\n",
      "{'cluster_index': 4,\n",
      " 'color': [167.51204534718934, 140.0982522437424, 131.9008030231467],\n",
      " 'color_percentage': 0.02338072323493626}\n",
      "\n"
     ]
    }
   ],
   "source": [
    "print(\"Color Information\")\n",
    "for x in dominantColors:\n",
    "        print(pprint.pformat(x))\n",
    "        print()"
   ]
  },
  {
   "cell_type": "code",
   "execution_count": 13,
   "metadata": {},
   "outputs": [
    {
     "data": {
      "text/plain": [
       "Text(0.5, 1.0, 'Color Bar')"
      ]
     },
     "execution_count": 13,
     "metadata": {},
     "output_type": "execute_result"
    },
    {
     "data": {
      "image/png": "[encoded data removed]",
      "text/plain": [
       "<Figure size 432x288 with 1 Axes>"
      ]
     },
     "metadata": {
      "needs_background": "light"
     },
     "output_type": "display_data"
    }
   ],
   "source": [
    "colour_bar = plotColorBar(dominantColors)\n",
    "plt.subplot(3, 1, 3)\n",
    "plt.axis(\"off\")\n",
    "plt.imshow(colour_bar)\n",
    "plt.title(\"Color Bar\")"
   ]
  },
  {
   "cell_type": "code",
   "execution_count": 14,
   "metadata": {},
   "outputs": [
    {
     "data": {
      "text/plain": [
       "<Figure size 432x288 with 0 Axes>"
      ]
     },
     "metadata": {},
     "output_type": "display_data"
    }
   ],
   "source": [
    "plt.tight_layout()\n",
    "plt.show()"
   ]
  },
  {
   "cell_type": "code",
   "execution_count": null,
   "metadata": {},
   "outputs": [],
   "source": []
  },
  {
   "cell_type": "code",
   "execution_count": null,
   "metadata": {},
   "outputs": [],
   "source": []
  },
  {
   "cell_type": "code",
   "execution_count": null,
   "metadata": {},
   "outputs": [],
   "source": []
  }
 ],
 "metadata": {
  "kernelspec": {
   "display_name": "Python 3",
   "language": "python",
   "name": "python3"
  },
  "language_info": {
   "codemirror_mode": {
    "name": "ipython",
    "version": 3
   },
   "file_extension": ".py",
   "mimetype": "text/x-python",
   "name": "python",
   "nbconvert_exporter": "python",
   "pygments_lexer": "ipython3",
   "version": "3.8.3"
  }
 },
 "nbformat": 4,
 "nbformat_minor": 5
}
