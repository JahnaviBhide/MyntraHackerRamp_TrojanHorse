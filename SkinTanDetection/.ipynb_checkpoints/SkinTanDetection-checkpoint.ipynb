{
 "cells": [
  {
   "cell_type": "code",
   "execution_count": 1,
   "metadata": {},
   "outputs": [],
   "source": [
    "import numpy as np\n",
    "import cv2\n",
    "from sklearn.cluster import KMeans\n",
    "from collections import Counter\n",
    "import imutils\n",
    "import pprint\n",
    "from matplotlib import pyplot as plt"
   ]
  },
  {
   "cell_type": "code",
   "execution_count": 2,
   "metadata": {},
   "outputs": [],
   "source": [
    "def extractSkin(image):\n",
    "    img =  image.copy()\n",
    "    img =  cv2.cvtColor(img,cv2.COLOR_BGR2HSV)\n",
    "    lower_threshold = np.array([0, 48, 80], dtype=np.uint8)\n",
    "    upper_threshold = np.array([20, 255, 255], dtype=np.uint8)\n",
    "    skinMask = cv2.inRange(img,lower_threshold,upper_threshold)\n",
    "    skinMask = cv2.GaussianBlur(skinMask,(3,3),0)\n",
    "    skin  =  cv2.bitwise_and(img,img,mask=skinMask)\n",
    "    return cv2.cvtColor(skin,cv2.COLOR_HSV2BGR)"
   ]
  },
  {
   "cell_type": "code",
   "execution_count": 3,
   "metadata": {},
   "outputs": [],
   "source": [
    "def removeBlack(estimator_labels, estimator_cluster):\n",
    "  \n",
    "    hasBlack = False\n",
    "    occurance_counter = Counter(estimator_labels)\n",
    "    compare = lambda x, y: Counter(x) == Counter(y)\n",
    "    for x in occurance_counter.most_common(len(estimator_cluster)):\n",
    "        color = [int(i) for i in estimator_cluster[x[0]].tolist() ]\n",
    "        if compare(color , [0,0,0]) == True:\n",
    "            del occurance_counter[x[0]]\n",
    "            hasBlack = True\n",
    "            estimator_cluster = np.delete(estimator_cluster,x[0],0)\n",
    "            break\n",
    "    return (occurance_counter,estimator_cluster,hasBlack)"
   ]
  },
  {
   "cell_type": "code",
   "execution_count": 4,
   "metadata": {},
   "outputs": [],
   "source": [
    "def getColorInformation(estimator_labels, estimator_cluster,hasThresholding=False):\n",
    "  \n",
    "    occurance_counter = None\n",
    "    colorInformation = []\n",
    "    hasBlack =False\n",
    "    if hasThresholding == True:\n",
    "    \n",
    "        (occurance,cluster,black) = removeBlack(estimator_labels,estimator_cluster)\n",
    "        occurance_counter =  occurance\n",
    "        estimator_cluster = cluster\n",
    "        hasBlack = black\n",
    "    \n",
    "    else:\n",
    "        occurance_counter = Counter(estimator_labels)\n",
    "    totalOccurance = sum(occurance_counter.values()) \n",
    "    for x in occurance_counter.most_common(len(estimator_cluster)):\n",
    "    \n",
    "        index = (int(x[0]))\n",
    "        index =  (index-1) if ((hasThresholding & hasBlack)& (int(index) !=0)) else index\n",
    "        color = estimator_cluster[index].tolist()\n",
    "        color_percentage= (x[1]/totalOccurance)\n",
    "        colorInfo = {\"cluster_index\":index , \"color\": color , \"color_percentage\" : color_percentage }\n",
    "        colorInformation.append(colorInfo)\n",
    "    return colorInformation"
   ]
  },
  {
   "cell_type": "code",
   "execution_count": 5,
   "metadata": {},
   "outputs": [],
   "source": [
    "def extractDominantColor(image,number_of_colors=5,hasThresholding=False):\n",
    "  \n",
    "    if hasThresholding == True:\n",
    "        number_of_colors +=1\n",
    "    img = image.copy()\n",
    "    img = cv2.cvtColor(img,cv2.COLOR_BGR2RGB)\n",
    "    img = img.reshape((img.shape[0]*img.shape[1]) , 3)\n",
    "    estimator = KMeans(n_clusters=number_of_colors, random_state=0)\n",
    "    estimator.fit(img)\n",
    "    colorInformation = getColorInformation(estimator.labels_,estimator.cluster_centers_,hasThresholding)\n",
    "    return colorInformation"
   ]
  },
  {
   "cell_type": "code",
   "execution_count": 6,
   "metadata": {},
   "outputs": [],
   "source": [
    "def rgb_to_hsv(r, g, b):\n",
    "    r, g, b = r/255.0, g/255.0, b/255.0\n",
    "    mx = max(r, g, b)\n",
    "    mn = min(r, g, b)\n",
    "    df = mx-mn\n",
    "    if mx == mn:\n",
    "        h = 0\n",
    "    elif mx == r:\n",
    "        h = (60 * ((g-b)/df) + 360) % 360\n",
    "    elif mx == g:\n",
    "        h = (60 * ((b-r)/df) + 120) % 360\n",
    "    elif mx == b:\n",
    "        h = (60 * ((r-g)/df) + 240) % 360\n",
    "    if mx == 0:\n",
    "        s = 0\n",
    "    else:\n",
    "        s = (df/mx)*100\n",
    "    v = mx*100\n",
    "    return h, s, v"
   ]
  },
  {
   "cell_type": "code",
   "execution_count": 7,
   "metadata": {},
   "outputs": [],
   "source": [
    "def findTan(color1,color2): \n",
    "    currentTan = color2[1] - color1[1]\n",
    "    print(\"Difference Index = \",currentTan)\n",
    "    if currentTan>-10 and currentTan<12 : print(\"Not a significant change in the color tone\")\n",
    "    elif currentTan>11 : print(\"Image 2 is tanned by an amount of \", currentTan)\n",
    "    else: print(\"Image 1 a lighter shade by an amount of \", currentTan*(-1))"
   ]
  },
  {
   "cell_type": "code",
   "execution_count": 8,
   "metadata": {},
   "outputs": [],
   "source": [
    "image1 = cv2.imread('original2.jpg')"
   ]
  },
  {
   "cell_type": "code",
   "execution_count": 9,
   "metadata": {},
   "outputs": [],
   "source": [
    "cv2.imshow('Original',image1)\n",
    "cv2.waitKey()\n",
    "cv2.destroyAllWindows()"
   ]
  },
  {
   "cell_type": "code",
   "execution_count": 10,
   "metadata": {},
   "outputs": [],
   "source": [
    "image1 = imutils.resize(image1,width=500)"
   ]
  },
  {
   "cell_type": "code",
   "execution_count": 11,
   "metadata": {},
   "outputs": [],
   "source": [
    "skin1 = extractSkin(image1)"
   ]
  },
  {
   "cell_type": "code",
   "execution_count": 12,
   "metadata": {},
   "outputs": [
    {
     "data": {
      "text/plain": [
       "[{'cluster_index': 3,\n",
       "  'color': [182.80105859708218, 140.74476047903997, 133.23267750214652],\n",
       "  'color_percentage': 0.29528076368990136},\n",
       " {'cluster_index': 0,\n",
       "  'color': [169.8624354028632, 118.87255258752279, 106.23968265521953],\n",
       "  'color_percentage': 0.21590387385818544},\n",
       " {'cluster_index': 2,\n",
       "  'color': [202.77473636974673, 160.1264677286646, 155.81175678707828],\n",
       "  'color_percentage': 0.213070115724983},\n",
       " {'cluster_index': 1,\n",
       "  'color': [133.4257385260182, 97.13993662475585, 90.93938464683634],\n",
       "  'color_percentage': 0.15539759684645463},\n",
       " {'cluster_index': 4,\n",
       "  'color': [96.94927344782207, 68.11624834874449, 63.434742404226114],\n",
       "  'color_percentage': 0.12034764988047557}]"
      ]
     },
     "execution_count": 12,
     "metadata": {},
     "output_type": "execute_result"
    }
   ],
   "source": [
    "dominantColors1 = extractDominantColor(skin1,hasThresholding=True)\n",
    "dominantColors1"
   ]
  },
  {
   "cell_type": "code",
   "execution_count": 13,
   "metadata": {},
   "outputs": [],
   "source": [
    "image2 = cv2.imread('tan2.jpg')"
   ]
  },
  {
   "cell_type": "code",
   "execution_count": 14,
   "metadata": {},
   "outputs": [],
   "source": [
    "cv2.imshow('tan',image2)\n",
    "cv2.waitKey()\n",
    "cv2.destroyAllWindows()"
   ]
  },
  {
   "cell_type": "code",
   "execution_count": 15,
   "metadata": {},
   "outputs": [],
   "source": [
    "image2 = imutils.resize(image2,width=500)"
   ]
  },
  {
   "cell_type": "code",
   "execution_count": 16,
   "metadata": {},
   "outputs": [],
   "source": [
    "skin2 = extractSkin(image2)"
   ]
  },
  {
   "cell_type": "code",
   "execution_count": 17,
   "metadata": {},
   "outputs": [],
   "source": [
    "dominantColors2 = extractDominantColor(skin2,hasThresholding=True)\n"
   ]
  },
  {
   "cell_type": "code",
   "execution_count": 18,
   "metadata": {},
   "outputs": [
    {
     "name": "stdout",
     "output_type": "stream",
     "text": [
      "Normal HSV Code :  (230.9070062677585, 27.116025188995735, 71.68668964591458)\n",
      "Tanned HSV Code :  (237.26356901094573, 52.771861368391, 50.17591105921139)\n"
     ]
    }
   ],
   "source": [
    "n = dominantColors1[0]['color']\n",
    "t = dominantColors2[0]['color']\n",
    "normal = rgb_to_hsv(n[2],n[1],n[0])\n",
    "tanned = rgb_to_hsv(t[2],t[1],t[0])\n",
    "\n",
    "print('Normal HSV Code : ', normal)\n",
    "print('Tanned HSV Code : ', tanned)"
   ]
  },
  {
   "cell_type": "code",
   "execution_count": 19,
   "metadata": {},
   "outputs": [],
   "source": [
    "img1 = cv2.cvtColor(image1,cv2.COLOR_BGR2RGB)\n",
    "img2 = cv2.cvtColor(image2,cv2.COLOR_BGR2RGB)\n",
    "img1 = imutils.resize(img1,width=500)\n",
    "img2 = imutils.resize(img2,width=500)"
   ]
  },
  {
   "cell_type": "code",
   "execution_count": 20,
   "metadata": {},
   "outputs": [],
   "source": [
    "cv2.imshow('img1',img1)\n",
    "cv2.waitKey()\n",
    "cv2.destroyAllWindows()"
   ]
  },
  {
   "cell_type": "code",
   "execution_count": 21,
   "metadata": {},
   "outputs": [],
   "source": [
    "cv2.imshow('img2',img2)\n",
    "cv2.waitKey()\n",
    "cv2.destroyAllWindows()"
   ]
  },
  {
   "cell_type": "code",
   "execution_count": 22,
   "metadata": {},
   "outputs": [
    {
     "name": "stdout",
     "output_type": "stream",
     "text": [
      "Difference Index =  25.655836179395266\n",
      "Image 2 is tanned by an amount of  25.655836179395266\n"
     ]
    }
   ],
   "source": [
    "findTan(normal,tanned)"
   ]
  },
  {
   "cell_type": "code",
   "execution_count": null,
   "metadata": {},
   "outputs": [],
   "source": []
  },
  {
   "cell_type": "code",
   "execution_count": null,
   "metadata": {},
   "outputs": [],
   "source": []
  }
 ],
 "metadata": {
  "kernelspec": {
   "display_name": "Python 3",
   "language": "python",
   "name": "python3"
  },
  "language_info": {
   "codemirror_mode": {
    "name": "ipython",
    "version": 3
   },
   "file_extension": ".py",
   "mimetype": "text/x-python",
   "name": "python",
   "nbconvert_exporter": "python",
   "pygments_lexer": "ipython3",
   "version": "3.8.3"
  }
 },
 "nbformat": 4,
 "nbformat_minor": 5
}
