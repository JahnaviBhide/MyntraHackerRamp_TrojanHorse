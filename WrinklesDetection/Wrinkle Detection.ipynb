{
 "cells": [
  {
   "cell_type": "code",
   "execution_count": 1,
   "metadata": {},
   "outputs": [],
   "source": [
    "import cv2\n",
    "import numpy as np\n",
    "from matplotlib import pyplot as plt\n",
    "from IPython.display import display, Image\n",
    "\n",
    "\n"
   ]
  },
  {
   "cell_type": "code",
   "execution_count": 3,
   "metadata": {},
   "outputs": [
    {
     "data": {
      "image/jpeg": "[encoded data removed]",
      "text/plain": [
       "<IPython.core.display.Image object>"
      ]
     },
     "metadata": {},
     "output_type": "display_data"
    },
    {
     "name": "stdout",
     "output_type": "stream",
     "text": [
      "No Wrinkle Found \n"
     ]
    }
   ],
   "source": [
    "face_cascade = cv2.CascadeClassifier(\"haarcascade_frontalface_default.xml\")\n",
    "display(Image(filename='./dataset/face3.jpg'))\n",
    "#loading image to matrix\n",
    "img = cv2.imread('./dataset/face3.jpg')\n",
    "\n",
    "#converting into grayscale image\n",
    "gray_img = cv2.cvtColor(img,cv2.COLOR_BGR2GRAY)\n",
    "#search the coordinates of an image\n",
    "faces = face_cascade.detectMultiScale(gray_img,scaleFactor = 1.05,minNeighbors=10)\n",
    "for x,y,w,h in faces :\n",
    "    cropped_img = img[y:y+h,x:x+w]\n",
    "    edges = cv2.Canny(cropped_img,110,1000)        \n",
    "    number_of_edges = np.count_nonzero(edges)\n",
    "\n",
    "if number_of_edges > 1000:\n",
    "    print(\"Wrinkle Found \")\n",
    "else:\n",
    "    print(\"No Wrinkle Found \")"
   ]
  },
  {
   "cell_type": "code",
   "execution_count": 7,
   "metadata": {},
   "outputs": [
    {
     "data": {
      "image/jpeg": "[encoded data removed]",
      "text/plain": [
       "<IPython.core.display.Image object>"
      ]
     },
     "metadata": {},
     "output_type": "display_data"
    },
    {
     "name": "stdout",
     "output_type": "stream",
     "text": [
      "Wrinkle Found \n"
     ]
    }
   ],
   "source": [
    "\n",
    "#creating facecascade\n",
    "face_cascade = cv2.CascadeClassifier(\"haarcascade_frontalface_default.xml\")\n",
    "display(Image(filename='./dataset/face6.jpg'))\n",
    "#loading image to matrix\n",
    "img = cv2.imread(\"./dataset/face6.jpg\")\n",
    "\n",
    "#converting into grayscale image\n",
    "gray_img = cv2.cvtColor(img,cv2.COLOR_BGR2GRAY)\n",
    "#search the coordinates of an image\n",
    "faces = face_cascade.detectMultiScale(gray_img,scaleFactor = 1.05,minNeighbors=10)\n",
    "for x,y,w,h in faces :\n",
    "    cropped_img = img[y:y+h,x:x+w]\n",
    "    edges = cv2.Canny(cropped_img,110,1000)        \n",
    "    number_of_edges = np.count_nonzero(edges)\n",
    "\n",
    "if number_of_edges > 1000:\n",
    "    print(\"Wrinkle Found \")\n",
    "else:\n",
    "    print(\"No Wrinkle Found \")"
   ]
  }
 ],
 "metadata": {
  "kernelspec": {
   "display_name": "Python 3",
   "language": "python",
   "name": "python3"
  },
  "language_info": {
   "codemirror_mode": {
    "name": "ipython",
    "version": 3
   },
   "file_extension": ".py",
   "mimetype": "text/x-python",
   "name": "python",
   "nbconvert_exporter": "python",
   "pygments_lexer": "ipython3",
   "version": "3.8.3"
  }
 },
 "nbformat": 4,
 "nbformat_minor": 4
}
